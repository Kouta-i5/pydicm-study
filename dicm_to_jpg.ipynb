{
 "cells": [
  {
   "cell_type": "markdown",
   "id": "40977c10",
   "metadata": {},
   "source": [
    "基本的なJPEG変換と保存"
   ]
  },
  {
   "cell_type": "code",
   "execution_count": 2,
   "id": "988ce286",
   "metadata": {},
   "outputs": [
    {
     "name": "stdout",
     "output_type": "stream",
     "text": [
      "JPEG画像を保存しました: sample/sample.jpg\n"
     ]
    },
    {
     "data": {
      "text/plain": [
       "'sample/sample.jpg'"
      ]
     },
     "execution_count": 2,
     "metadata": {},
     "output_type": "execute_result"
    }
   ],
   "source": [
    "import pydicom\n",
    "import matplotlib.pyplot as plt\n",
    "import numpy as np\n",
    "from PIL import Image\n",
    "import os\n",
    "\n",
    "def dicom_to_jpeg(dicom_path, output_path, quality=95):\n",
    "    \"\"\"DICOM画像をJPEG形式で保存\"\"\"\n",
    "    \n",
    "    # DICOMファイルを読み込み\n",
    "    ds = pydicom.dcmread(dicom_path)\n",
    "    img = ds.pixel_array\n",
    "    \n",
    "    # 画像の正規化（0-255の範囲に）\n",
    "    img_normalized = normalize_dicom_image(img, ds)\n",
    "    \n",
    "    # PIL Imageに変換\n",
    "    pil_image = Image.fromarray(img_normalized)\n",
    "    \n",
    "    # JPEG形式で保存\n",
    "    pil_image.save(output_path, 'JPEG', quality=quality)\n",
    "    \n",
    "    print(f\"JPEG画像を保存しました: {output_path}\")\n",
    "    return output_path\n",
    "\n",
    "def normalize_dicom_image(img, ds):\n",
    "    \"\"\"DICOM画像を正規化\"\"\"\n",
    "    \n",
    "    # ウィンドウレベル調整\n",
    "    window_center = ds.WindowCenter\n",
    "    window_width = ds.WindowWidth\n",
    "    \n",
    "    min_val = window_center - window_width // 2\n",
    "    max_val = window_center + window_width // 2\n",
    "    \n",
    "    # 画像をクリッピング\n",
    "    img_clipped = np.clip(img, min_val, max_val)\n",
    "    \n",
    "    # 0-255の範囲に正規化\n",
    "    img_normalized = ((img_clipped - min_val) / (max_val - min_val) * 255).astype(np.uint8)\n",
    "    \n",
    "    return img_normalized\n",
    "\n",
    "# 使用例\n",
    "dicom_file = 'sample/sample.dcm'\n",
    "output_file = 'sample/sample.jpg'\n",
    "\n",
    "dicom_to_jpeg(dicom_file, output_file, quality=95)"
   ]
  },
  {
   "cell_type": "markdown",
   "id": "c9aa6ee0",
   "metadata": {},
   "source": [
    "2. 複数のDICOMファイルを一括変換"
   ]
  },
  {
   "cell_type": "code",
   "execution_count": null,
   "id": "37f4adfb",
   "metadata": {},
   "outputs": [],
   "source": [
    "import glob\n",
    "import os\n",
    "\n",
    "def batch_dicom_to_jpeg(input_folder='sample', output_folder='sample_jpeg', quality=95):\n",
    "    \"\"\"フォルダー内の全DICOMファイルをJPEGに変換\"\"\"\n",
    "    \n",
    "    # 出力フォルダーを作成\n",
    "    os.makedirs(output_folder, exist_ok=True)\n",
    "    \n",
    "    # DICOMファイルを検索\n",
    "    dicom_files = glob.glob(os.path.join(input_folder, '*.dcm'))\n",
    "    \n",
    "    if not dicom_files:\n",
    "        print(f\"'{input_folder}'フォルダーにDICOMファイルが見つかりません\")\n",
    "        return\n",
    "    \n",
    "    print(f\"見つかったDICOMファイル数: {len(dicom_files)}\")\n",
    "    \n",
    "    # 各ファイルを変換\n",
    "    for dicom_file in dicom_files:\n",
    "        try:\n",
    "            # ファイル名を取得\n",
    "            base_name = os.path.splitext(os.path.basename(dicom_file))[0]\n",
    "            output_file = os.path.join(output_folder, f\"{base_name}.jpg\")\n",
    "            \n",
    "            # JPEGに変換\n",
    "            dicom_to_jpeg(dicom_file, output_file, quality)\n",
    "            \n",
    "        except Exception as e:\n",
    "            print(f\"エラー ({dicom_file}): {e}\")\n",
    "    \n",
    "    print(f\"変換完了！出力フォルダー: {output_folder}\")\n",
    "\n",
    "# 一括変換の実行\n",
    "batch_dicom_to_jpeg()"
   ]
  },
  {
   "cell_type": "markdown",
   "id": "c8010107",
   "metadata": {},
   "source": [
    "3. 高品質なJPEG変換（医療画像用）"
   ]
  },
  {
   "cell_type": "code",
   "execution_count": 3,
   "id": "bf90da22",
   "metadata": {},
   "outputs": [
    {
     "name": "stdout",
     "output_type": "stream",
     "text": [
      "高品質JPEG画像を保存しました: sample/sample_hq.jpg\n"
     ]
    },
    {
     "name": "stderr",
     "output_type": "stream",
     "text": [
      "C:\\Users\\pond1\\AppData\\Local\\Temp\\ipykernel_126560\\4198958458.py:11: DeprecationWarning: 'mode' parameter is deprecated and will be removed in Pillow 13 (2026-10-15)\n",
      "  pil_image = Image.fromarray(img_normalized, mode='L')  # グレースケール\n"
     ]
    }
   ],
   "source": [
    "def high_quality_dicom_to_jpeg(dicom_path, output_path, quality=100):\n",
    "    \"\"\"高品質なJPEG変換（医療画像用）\"\"\"\n",
    "    \n",
    "    ds = pydicom.dcmread(dicom_path)\n",
    "    img = ds.pixel_array\n",
    "    \n",
    "    # より精密な正規化\n",
    "    img_normalized = advanced_normalization(img, ds)\n",
    "    \n",
    "    # PIL Imageに変換\n",
    "    pil_image = Image.fromarray(img_normalized, mode='L')  # グレースケール\n",
    "    \n",
    "    # 高品質JPEGで保存\n",
    "    pil_image.save(output_path, 'JPEG', quality=quality, optimize=True)\n",
    "    \n",
    "    print(f\"高品質JPEG画像を保存しました: {output_path}\")\n",
    "\n",
    "def advanced_normalization(img, ds):\n",
    "    \"\"\"高度な正規化処理\"\"\"\n",
    "    \n",
    "    # 画像の統計情報を取得\n",
    "    img_min = img.min()\n",
    "    img_max = img.max()\n",
    "    \n",
    "    # ヒストグラム平坦化（オプション）\n",
    "    from skimage import exposure\n",
    "    img_eq = exposure.equalize_hist(img)\n",
    "    \n",
    "    # 0-255に正規化\n",
    "    img_normalized = (img_eq * 255).astype(np.uint8)\n",
    "    \n",
    "    return img_normalized\n",
    "\n",
    "# 高品質変換の実行\n",
    "high_quality_dicom_to_jpeg('sample/sample.dcm', 'sample/sample_hq.jpg')"
   ]
  },
  {
   "cell_type": "markdown",
   "id": "0858718c",
   "metadata": {},
   "source": [
    "4. メタデータ付きJPEG保存"
   ]
  },
  {
   "cell_type": "code",
   "execution_count": 5,
   "id": "d43d7f16",
   "metadata": {},
   "outputs": [
    {
     "name": "stdout",
     "output_type": "stream",
     "text": [
      "JPEG画像を保存しました: sample/sample.jpg\n",
      "メタデータを保存しました: sample/sample_metadata.json\n"
     ]
    }
   ],
   "source": [
    "import json\n",
    "\n",
    "def dicom_to_jpeg_with_separate_metadata(dicom_path, output_path, metadata_path):\n",
    "    \"\"\"JPEG画像とメタデータを別々に保存\"\"\"\n",
    "    \n",
    "    ds = pydicom.dcmread(dicom_path)\n",
    "    img = ds.pixel_array\n",
    "    \n",
    "    # 画像を正規化\n",
    "    img_normalized = normalize_dicom_image(img, ds)\n",
    "    \n",
    "    # PIL Imageに変換\n",
    "    pil_image = Image.fromarray(img_normalized)\n",
    "    \n",
    "    # JPEGに保存\n",
    "    pil_image.save(output_path, 'JPEG', quality=95)\n",
    "    \n",
    "    # メタデータをJSONファイルで保存\n",
    "    metadata = {\n",
    "        'PatientName': str(ds.PatientName),\n",
    "        'StudyDate': str(ds.StudyDate),\n",
    "        'Modality': str(ds.Modality),\n",
    "        'ImageSize': f\"{ds.Rows}x{ds.Columns}\",\n",
    "        'BitsAllocated': str(ds.BitsAllocated)\n",
    "    }\n",
    "    \n",
    "    with open(metadata_path, 'w', encoding='utf-8') as f:\n",
    "        json.dump(metadata, f, indent=2, ensure_ascii=False)\n",
    "    \n",
    "    print(f\"JPEG画像を保存しました: {output_path}\")\n",
    "    print(f\"メタデータを保存しました: {metadata_path}\")\n",
    "\n",
    "# 別々に保存の実行\n",
    "dicom_to_jpeg_with_separate_metadata(\n",
    "    'sample/sample.dcm', \n",
    "    'sample/sample.jpg', \n",
    "    'sample/sample_metadata.json'\n",
    ")"
   ]
  }
 ],
 "metadata": {
  "kernelspec": {
   "display_name": ".venv",
   "language": "python",
   "name": "python3"
  },
  "language_info": {
   "codemirror_mode": {
    "name": "ipython",
    "version": 3
   },
   "file_extension": ".py",
   "mimetype": "text/x-python",
   "name": "python",
   "nbconvert_exporter": "python",
   "pygments_lexer": "ipython3",
   "version": "3.11.9"
  }
 },
 "nbformat": 4,
 "nbformat_minor": 5
}
